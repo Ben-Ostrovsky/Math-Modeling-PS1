{
 "cells": [
  {
   "cell_type": "code",
   "execution_count": 2,
   "metadata": {},
   "outputs": [
    {
     "name": "stdout",
     "output_type": "stream",
     "text": [
      "[172.2, 176.0, 178.4, 162.4, 165.8, 176.6, 180.0, 203.0, 167.4, 170.6]\n"
     ]
    }
   ],
   "source": [
    "def av(lst):\n",
    "    return sum(lst) / len(lst)\n",
    "\n",
    "\n",
    "E1 = [149, 167, 161, 176, 208]\n",
    "E2 = [183, 193, 166, 174, 164]\n",
    "E3 = [220, 163, 186, 171, 152]\n",
    "E4 = [172, 146, 156, 152, 186]\n",
    "E5 = [188, 166, 180, 147, 148]\n",
    "E6 = [164, 198, 155, 189, 177]\n",
    "E7 = [181, 188, 139, 190, 202]\n",
    "E8 = [181, 218, 213, 201, 202]\n",
    "E9 = [162, 167, 181, 153, 174]\n",
    "E10 = [160, 142, 198, 175, 178]\n",
    "\n",
    "avgs=[av(E1), av(E2),av(E3),av(E4),av(E5),av(E6),av(E7),av(E8),av(E9),av(E10)]\n",
    "print(avgs)"
   ]
  },
  {
   "cell_type": "code",
   "execution_count": 3,
   "metadata": {},
   "outputs": [
    {
     "name": "stdout",
     "output_type": "stream",
     "text": [
      "AVERAGE: 172.2\n",
      "TOTAL PACKAGES  -  24: 7,   16: 0,   8: 1\n",
      "TOTAL COST: 75\n",
      "PROFIT: 277\n",
      "\n",
      "\n",
      "AVERAGE: 176.0\n",
      "TOTAL PACKAGES  -  24: 7,   16: 0,   8: 1\n",
      "TOTAL COST: 75\n",
      "PROFIT: 277\n",
      "\n",
      "\n",
      "AVERAGE: 178.4\n",
      "TOTAL PACKAGES  -  24: 7,   16: 1,   8: 0\n",
      "TOTAL COST: 78\n",
      "PROFIT: 290\n",
      "\n",
      "\n",
      "AVERAGE: 162.4\n",
      "TOTAL PACKAGES  -  24: 7,   16: 0,   8: 0\n",
      "TOTAL COST: 70\n",
      "PROFIT: 266\n",
      "\n",
      "\n",
      "AVERAGE: 165.8\n",
      "TOTAL PACKAGES  -  24: 7,   16: 0,   8: 0\n",
      "TOTAL COST: 70\n",
      "PROFIT: 266\n",
      "\n",
      "\n",
      "AVERAGE: 176.6\n",
      "TOTAL PACKAGES  -  24: 7,   16: 1,   8: 1\n",
      "TOTAL COST: 83\n",
      "PROFIT: 301\n",
      "\n",
      "\n",
      "AVERAGE: 180.0\n",
      "TOTAL PACKAGES  -  24: 7,   16: 1,   8: 0\n",
      "TOTAL COST: 78\n",
      "PROFIT: 290\n",
      "\n",
      "\n",
      "AVERAGE: 203.0\n",
      "TOTAL PACKAGES  -  24: 8,   16: 1,   8: 0\n",
      "TOTAL COST: 88\n",
      "PROFIT: 328\n",
      "\n",
      "\n",
      "AVERAGE: 167.4\n",
      "TOTAL PACKAGES  -  24: 7,   16: 0,   8: 0\n",
      "TOTAL COST: 70\n",
      "PROFIT: 266\n",
      "\n",
      "\n",
      "AVERAGE: 170.6\n",
      "TOTAL PACKAGES  -  24: 7,   16: 1,   8: 0\n",
      "TOTAL COST: 78\n",
      "PROFIT: 290\n",
      "\n",
      "\n"
     ]
    }
   ],
   "source": [
    "total=[]\n",
    "profits=[]\n",
    "money_used=0\n",
    "\n",
    "for average in avgs:\n",
    "    current=[]\n",
    "    while sum(current)<(average):\n",
    "        if (average - sum(current)) <= 9 and (average - sum(current))>=3:\n",
    "            current.append(8)\n",
    "        elif average - sum(current) <= 16:\n",
    "            current.append(16)\n",
    "        else:\n",
    "            current.append(24)\n",
    "        \n",
    "    total.extend(current)\n",
    "    cost = current.count(24)*10 + current.count(16)*8 + current.count(8)*5\n",
    "    profit=sum(current)*2-cost\n",
    "    profits.append(profit)\n",
    "    money_used+=cost\n",
    "    \n",
    "    print(f'AVERAGE: {average}\\nTOTAL PACKAGES  -  24: {current.count(24)},   16: {current.count(16)},   8: {current.count(8)}\\nTOTAL COST: {cost}\\nPROFIT: {profit}\\n\\n')"
   ]
  },
  {
   "cell_type": "code",
   "execution_count": 4,
   "metadata": {},
   "outputs": [
    {
     "name": "stdout",
     "output_type": "stream",
     "text": [
      "TOTAL PROFIT: 2776\n",
      "TOTAL COST: 765\n",
      "TOTAL HOTDOGS BOUGHT: 1808\n"
     ]
    }
   ],
   "source": [
    "print(f'TOTAL PROFIT: {sum(profits)-75}\\nTOTAL COST: {money_used}\\nTOTAL HOTDOGS BOUGHT: {sum(total)}')"
   ]
  },
  {
   "cell_type": "code",
   "execution_count": null,
   "metadata": {},
   "outputs": [],
   "source": []
  }
 ],
 "metadata": {
  "kernelspec": {
   "display_name": "Python 3.9.12 ('base')",
   "language": "python",
   "name": "python3"
  },
  "language_info": {
   "codemirror_mode": {
    "name": "ipython",
    "version": 3
   },
   "file_extension": ".py",
   "mimetype": "text/x-python",
   "name": "python",
   "nbconvert_exporter": "python",
   "pygments_lexer": "ipython3",
   "version": "3.9.12"
  },
  "orig_nbformat": 4,
  "vscode": {
   "interpreter": {
    "hash": "211353ec85ae5036c502faad519095a97a2593b237d819f8ea5694b789afa91f"
   }
  }
 },
 "nbformat": 4,
 "nbformat_minor": 2
}
